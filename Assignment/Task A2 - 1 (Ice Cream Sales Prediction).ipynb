{
 "cells": [
  {
   "cell_type": "code",
   "execution_count": 1,
   "id": "cdee70e8",
   "metadata": {},
   "outputs": [],
   "source": [
    "# Import Libraries\n",
    "import pandas as pd\n",
    "import numpy as np\n",
    "import matplotlib.pyplot as plt\n",
    "import seaborn as sns\n",
    "\n",
    "from sklearn.model_selection import train_test_split\n",
    "from sklearn import metrics\n",
    "from sklearn.metrics import r2_score\n",
    "from sklearn.metrics import confusion_matrix\n",
    "from sklearn.metrics import classification_report\n",
    "from sklearn.metrics import accuracy_score"
   ]
  },
  {
   "cell_type": "code",
   "execution_count": 2,
   "id": "a0a650a5",
   "metadata": {},
   "outputs": [],
   "source": [
    "# Read Dataset\n",
    "dataset = pd.read_csv(\"IceCreamData.csv\")"
   ]
  },
  {
   "cell_type": "markdown",
   "id": "41184909",
   "metadata": {},
   "source": [
    "## Data Understanding"
   ]
  },
  {
   "cell_type": "code",
   "execution_count": 3,
   "id": "9123fa61",
   "metadata": {},
   "outputs": [
    {
     "data": {
      "text/html": [
       "<div>\n",
       "<style scoped>\n",
       "    .dataframe tbody tr th:only-of-type {\n",
       "        vertical-align: middle;\n",
       "    }\n",
       "\n",
       "    .dataframe tbody tr th {\n",
       "        vertical-align: top;\n",
       "    }\n",
       "\n",
       "    .dataframe thead th {\n",
       "        text-align: right;\n",
       "    }\n",
       "</style>\n",
       "<table border=\"1\" class=\"dataframe\">\n",
       "  <thead>\n",
       "    <tr style=\"text-align: right;\">\n",
       "      <th></th>\n",
       "      <th>Temperature</th>\n",
       "      <th>Revenue</th>\n",
       "    </tr>\n",
       "  </thead>\n",
       "  <tbody>\n",
       "    <tr>\n",
       "      <th>0</th>\n",
       "      <td>24.566884</td>\n",
       "      <td>534.799028</td>\n",
       "    </tr>\n",
       "    <tr>\n",
       "      <th>1</th>\n",
       "      <td>26.005191</td>\n",
       "      <td>625.190122</td>\n",
       "    </tr>\n",
       "    <tr>\n",
       "      <th>2</th>\n",
       "      <td>27.790554</td>\n",
       "      <td>660.632289</td>\n",
       "    </tr>\n",
       "    <tr>\n",
       "      <th>3</th>\n",
       "      <td>20.595335</td>\n",
       "      <td>487.706960</td>\n",
       "    </tr>\n",
       "    <tr>\n",
       "      <th>4</th>\n",
       "      <td>11.503498</td>\n",
       "      <td>316.240194</td>\n",
       "    </tr>\n",
       "  </tbody>\n",
       "</table>\n",
       "</div>"
      ],
      "text/plain": [
       "   Temperature     Revenue\n",
       "0    24.566884  534.799028\n",
       "1    26.005191  625.190122\n",
       "2    27.790554  660.632289\n",
       "3    20.595335  487.706960\n",
       "4    11.503498  316.240194"
      ]
     },
     "execution_count": 3,
     "metadata": {},
     "output_type": "execute_result"
    }
   ],
   "source": [
    "dataset.head()"
   ]
  },
  {
   "cell_type": "code",
   "execution_count": 4,
   "id": "e6bb94a5",
   "metadata": {},
   "outputs": [
    {
     "data": {
      "text/plain": [
       "Index(['Temperature', 'Revenue'], dtype='object')"
      ]
     },
     "execution_count": 4,
     "metadata": {},
     "output_type": "execute_result"
    }
   ],
   "source": [
    "dataset.columns"
   ]
  },
  {
   "cell_type": "code",
   "execution_count": 5,
   "id": "2b99f05d",
   "metadata": {},
   "outputs": [
    {
     "name": "stdout",
     "output_type": "stream",
     "text": [
      "<class 'pandas.core.frame.DataFrame'>\n",
      "RangeIndex: 500 entries, 0 to 499\n",
      "Data columns (total 2 columns):\n",
      " #   Column       Non-Null Count  Dtype  \n",
      "---  ------       --------------  -----  \n",
      " 0   Temperature  500 non-null    float64\n",
      " 1   Revenue      500 non-null    float64\n",
      "dtypes: float64(2)\n",
      "memory usage: 7.9 KB\n"
     ]
    }
   ],
   "source": [
    "dataset.info()"
   ]
  },
  {
   "cell_type": "code",
   "execution_count": 6,
   "id": "81dfe54d",
   "metadata": {},
   "outputs": [
    {
     "data": {
      "text/plain": [
       "(500, 2)"
      ]
     },
     "execution_count": 6,
     "metadata": {},
     "output_type": "execute_result"
    }
   ],
   "source": [
    "dataset.shape"
   ]
  },
  {
   "cell_type": "code",
   "execution_count": 7,
   "id": "188bb1e8",
   "metadata": {},
   "outputs": [
    {
     "data": {
      "text/html": [
       "<div>\n",
       "<style scoped>\n",
       "    .dataframe tbody tr th:only-of-type {\n",
       "        vertical-align: middle;\n",
       "    }\n",
       "\n",
       "    .dataframe tbody tr th {\n",
       "        vertical-align: top;\n",
       "    }\n",
       "\n",
       "    .dataframe thead th {\n",
       "        text-align: right;\n",
       "    }\n",
       "</style>\n",
       "<table border=\"1\" class=\"dataframe\">\n",
       "  <thead>\n",
       "    <tr style=\"text-align: right;\">\n",
       "      <th></th>\n",
       "      <th>Temperature</th>\n",
       "      <th>Revenue</th>\n",
       "    </tr>\n",
       "  </thead>\n",
       "  <tbody>\n",
       "    <tr>\n",
       "      <th>count</th>\n",
       "      <td>500.000000</td>\n",
       "      <td>500.000000</td>\n",
       "    </tr>\n",
       "    <tr>\n",
       "      <th>mean</th>\n",
       "      <td>22.232225</td>\n",
       "      <td>521.570777</td>\n",
       "    </tr>\n",
       "    <tr>\n",
       "      <th>std</th>\n",
       "      <td>8.096388</td>\n",
       "      <td>175.404751</td>\n",
       "    </tr>\n",
       "    <tr>\n",
       "      <th>min</th>\n",
       "      <td>0.000000</td>\n",
       "      <td>10.000000</td>\n",
       "    </tr>\n",
       "    <tr>\n",
       "      <th>25%</th>\n",
       "      <td>17.122258</td>\n",
       "      <td>405.558681</td>\n",
       "    </tr>\n",
       "    <tr>\n",
       "      <th>50%</th>\n",
       "      <td>22.392791</td>\n",
       "      <td>529.368565</td>\n",
       "    </tr>\n",
       "    <tr>\n",
       "      <th>75%</th>\n",
       "      <td>27.740674</td>\n",
       "      <td>642.257922</td>\n",
       "    </tr>\n",
       "    <tr>\n",
       "      <th>max</th>\n",
       "      <td>45.000000</td>\n",
       "      <td>1000.000000</td>\n",
       "    </tr>\n",
       "  </tbody>\n",
       "</table>\n",
       "</div>"
      ],
      "text/plain": [
       "       Temperature      Revenue\n",
       "count   500.000000   500.000000\n",
       "mean     22.232225   521.570777\n",
       "std       8.096388   175.404751\n",
       "min       0.000000    10.000000\n",
       "25%      17.122258   405.558681\n",
       "50%      22.392791   529.368565\n",
       "75%      27.740674   642.257922\n",
       "max      45.000000  1000.000000"
      ]
     },
     "execution_count": 7,
     "metadata": {},
     "output_type": "execute_result"
    }
   ],
   "source": [
    "dataset.describe()"
   ]
  },
  {
   "cell_type": "code",
   "execution_count": 8,
   "id": "08fed62a",
   "metadata": {},
   "outputs": [
    {
     "data": {
      "text/plain": [
       "Temperature    0\n",
       "Revenue        0\n",
       "dtype: int64"
      ]
     },
     "execution_count": 8,
     "metadata": {},
     "output_type": "execute_result"
    }
   ],
   "source": [
    "dataset.isnull().sum()"
   ]
  },
  {
   "cell_type": "code",
   "execution_count": 9,
   "id": "aa2e922d",
   "metadata": {},
   "outputs": [
    {
     "data": {
      "text/plain": [
       "621.969209    1\n",
       "654.197406    1\n",
       "278.418265    1\n",
       "401.433018    1\n",
       "501.732990    1\n",
       "             ..\n",
       "827.684831    1\n",
       "649.561175    1\n",
       "478.598509    1\n",
       "308.894518    1\n",
       "684.803070    1\n",
       "Name: Revenue, Length: 500, dtype: int64"
      ]
     },
     "execution_count": 9,
     "metadata": {},
     "output_type": "execute_result"
    }
   ],
   "source": [
    "# Number of instances in the target class\n",
    "\n",
    "dataset['Revenue'].value_counts()"
   ]
  },
  {
   "cell_type": "markdown",
   "id": "8f73e64a",
   "metadata": {},
   "source": [
    "### To see how Revenue are related with Temperature"
   ]
  },
  {
   "cell_type": "code",
   "execution_count": 10,
   "id": "c0da2068",
   "metadata": {},
   "outputs": [
    {
     "name": "stderr",
     "output_type": "stream",
     "text": [
      "C:\\Users\\User\\anaconda3\\lib\\site-packages\\seaborn\\_decorators.py:36: FutureWarning: Pass the following variable as a keyword arg: x. From version 0.12, the only valid positional argument will be `data`, and passing other arguments without an explicit keyword will result in an error or misinterpretation.\n",
      "  warnings.warn(\n"
     ]
    },
    {
     "data": {
      "image/png": "[encoded data removed]",
      "text/plain": [
       "<Figure size 432x288 with 1 Axes>"
      ]
     },
     "metadata": {
      "needs_background": "light"
     },
     "output_type": "display_data"
    }
   ],
   "source": [
    "sns.boxplot(dataset['Revenue'])\n",
    "plt.show()"
   ]
  },
  {
   "cell_type": "code",
   "execution_count": 11,
   "id": "f9203657",
   "metadata": {
    "scrolled": false
   },
   "outputs": [
    {
     "data": {
      "text/plain": [
       "<seaborn.axisgrid.JointGrid at 0x226c4bfc940>"
      ]
     },
     "execution_count": 11,
     "metadata": {},
     "output_type": "execute_result"
    },
    {
     "data": {
      "image/png": "[encoded data removed]",
      "text/plain": [
       "<Figure size 432x432 with 3 Axes>"
      ]
     },
     "metadata": {
      "needs_background": "light"
     },
     "output_type": "display_data"
    }
   ],
   "source": [
    "sns.jointplot(x='Temperature',y='Revenue',data=dataset,color='gray')"
   ]
  },
  {
   "cell_type": "code",
   "execution_count": 12,
   "id": "e78c08e1",
   "metadata": {
    "scrolled": true
   },
   "outputs": [
    {
     "data": {
      "text/plain": [
       "<seaborn.axisgrid.PairGrid at 0x226c4ccbdf0>"
      ]
     },
     "execution_count": 12,
     "metadata": {},
     "output_type": "execute_result"
    },
    {
     "data": {
      "image/png": "[encoded data removed]",
      "text/plain": [
       "<Figure size 360x360 with 6 Axes>"
      ]
     },
     "metadata": {
      "needs_background": "light"
     },
     "output_type": "display_data"
    }
   ],
   "source": [
    "sns.pairplot(dataset)"
   ]
  },
  {
   "cell_type": "code",
   "execution_count": 13,
   "id": "ec762d98",
   "metadata": {},
   "outputs": [
    {
     "data": {
      "image/png": "[encoded data removed]",
      "text/plain": [
       "<Figure size 432x288 with 1 Axes>"
      ]
     },
     "metadata": {
      "needs_background": "light"
     },
     "output_type": "display_data"
    }
   ],
   "source": [
    "plt.scatter('Temperature','Revenue', data=dataset, color= 'red')\n",
    "plt.xlabel('Temperature')\n",
    "plt.ylabel('Revenue')\n",
    "plt.show()"
   ]
  },
  {
   "cell_type": "code",
   "execution_count": 14,
   "id": "a976945c",
   "metadata": {},
   "outputs": [
    {
     "data": {
      "image/png": "[encoded data removed]",
      "text/plain": [
       "<Figure size 432x288 with 2 Axes>"
      ]
     },
     "metadata": {
      "needs_background": "light"
     },
     "output_type": "display_data"
    }
   ],
   "source": [
    "sns.heatmap(dataset.corr(), cmap=\"YlGnBu\", annot = True)\n",
    "plt.show()"
   ]
  },
  {
   "cell_type": "markdown",
   "id": "ceedf8fe",
   "metadata": {},
   "source": [
    "### Data Preparation"
   ]
  },
  {
   "cell_type": "markdown",
   "id": "e35ed23f",
   "metadata": {},
   "source": [
    "We define our target attribute which is y and predictor attribute which is x.\n",
    "The following means Temperature is represented as 0 and Revenue as 1.\n"
   ]
  },
  {
   "cell_type": "code",
   "execution_count": 15,
   "id": "fd9c5be3",
   "metadata": {},
   "outputs": [],
   "source": [
    "x = dataset.iloc[:,0].values.reshape(-1,1) \n",
    "y = dataset.iloc[:,-1].values.reshape(-1,1) "
   ]
  },
  {
   "cell_type": "markdown",
   "id": "89a163d1",
   "metadata": {},
   "source": [
    "#### Split the dataset for testing and training"
   ]
  },
  {
   "cell_type": "code",
   "execution_count": 16,
   "id": "55bda498",
   "metadata": {},
   "outputs": [],
   "source": [
    "x_train, x_test, y_train, y_test = train_test_split(x, y, test_size = 0.30, random_state = 0)"
   ]
  },
  {
   "cell_type": "code",
   "execution_count": 17,
   "id": "65b5a708",
   "metadata": {},
   "outputs": [
    {
     "name": "stdout",
     "output_type": "stream",
     "text": [
      "Total # of sample in whole dataset: 500\n",
      "**************************************************\n",
      "Total # of sample in train dataset: 350\n",
      "Shape of X_train: (350, 1)\n",
      "**************************************************\n",
      "Total # of sample in test dataset: 150\n",
      "Shape of X_test: (150, 1)\n"
     ]
    }
   ],
   "source": [
    "print(f'Total # of sample in whole dataset: {len(x)}')\n",
    "print(\"*****\"*10)\n",
    "print(f'Total # of sample in train dataset: {len(x_train)}')\n",
    "print(f'Shape of X_train: {x_train.shape}')\n",
    "print(\"*****\"*10)\n",
    "print(f'Total # of sample in test dataset: {len(x_test)}')\n",
    "print(f'Shape of X_test: {x_test.shape}')"
   ]
  },
  {
   "cell_type": "markdown",
   "id": "a9f86a3d",
   "metadata": {},
   "source": [
    "## Building Model - Simple Linear Regression"
   ]
  },
  {
   "cell_type": "code",
   "execution_count": 18,
   "id": "eeb0c64a",
   "metadata": {},
   "outputs": [],
   "source": [
    "from sklearn.linear_model import LinearRegression"
   ]
  },
  {
   "cell_type": "code",
   "execution_count": 19,
   "id": "406beecb",
   "metadata": {
    "scrolled": false
   },
   "outputs": [
    {
     "data": {
      "text/plain": [
       "LinearRegression()"
      ]
     },
     "execution_count": 19,
     "metadata": {},
     "output_type": "execute_result"
    }
   ],
   "source": [
    "slreg = LinearRegression()\n",
    "slreg.fit(x_train, y_train)"
   ]
  },
  {
   "cell_type": "markdown",
   "id": "60d3494e",
   "metadata": {},
   "source": [
    "#### Making Prediction"
   ]
  },
  {
   "cell_type": "code",
   "execution_count": 20,
   "id": "35ad47d0",
   "metadata": {
    "scrolled": true
   },
   "outputs": [
    {
     "data": {
      "text/plain": [
       "array([[697.40760182],\n",
       "       [652.67518783],\n",
       "       [664.01048102],\n",
       "       [451.14537645],\n",
       "       [664.75022673],\n",
       "       [442.05219958],\n",
       "       [583.85242913],\n",
       "       [623.3625391 ],\n",
       "       [666.7500596 ],\n",
       "       [469.23604811],\n",
       "       [546.84832099],\n",
       "       [444.08266531],\n",
       "       [622.49432909],\n",
       "       [378.73035124],\n",
       "       [368.21119457],\n",
       "       [943.18564123],\n",
       "       [891.63651167],\n",
       "       [693.5479008 ],\n",
       "       [546.07634654],\n",
       "       [421.39940399],\n",
       "       [392.08451996],\n",
       "       [596.71982427],\n",
       "       [284.91295994],\n",
       "       [654.83874688],\n",
       "       [382.05091808],\n",
       "       [413.18421083],\n",
       "       [372.17594967],\n",
       "       [510.48997583],\n",
       "       [480.14543708],\n",
       "       [457.26943784],\n",
       "       [639.55061011],\n",
       "       [283.33932566],\n",
       "       [315.67211819],\n",
       "       [470.5172469 ],\n",
       "       [559.66448707],\n",
       "       [539.8163622 ],\n",
       "       [309.24695716],\n",
       "       [508.91264932],\n",
       "       [571.29876902],\n",
       "       [731.11193473],\n",
       "       [441.12952919],\n",
       "       [494.7446538 ],\n",
       "       [567.45606027],\n",
       "       [444.60923294],\n",
       "       [912.17744272],\n",
       "       [602.86026073],\n",
       "       [541.88552358],\n",
       "       [202.15022192],\n",
       "       [693.13862264],\n",
       "       [352.35035317],\n",
       "       [191.75736834],\n",
       "       [576.63952464],\n",
       "       [218.6500316 ],\n",
       "       [468.66672894],\n",
       "       [462.36421819],\n",
       "       [449.07885871],\n",
       "       [495.24147022],\n",
       "       [799.7974912 ],\n",
       "       [332.62076008],\n",
       "       [540.48871157],\n",
       "       [660.49777207],\n",
       "       [526.81456218],\n",
       "       [361.85571542],\n",
       "       [452.08670277],\n",
       "       [621.1286303 ],\n",
       "       [256.68953207],\n",
       "       [291.80845533],\n",
       "       [525.74444041],\n",
       "       [656.01875741],\n",
       "       [662.39669353],\n",
       "       [739.76749383],\n",
       "       [186.78282881],\n",
       "       [593.1547376 ],\n",
       "       [150.93922946],\n",
       "       [486.38075865],\n",
       "       [610.65381356],\n",
       "       [663.78820138],\n",
       "       [473.99823998],\n",
       "       [783.86920023],\n",
       "       [422.92362849],\n",
       "       [172.15883942],\n",
       "       [819.02338409],\n",
       "       [435.12727557],\n",
       "       [327.2364211 ],\n",
       "       [659.38429697],\n",
       "       [586.24045866],\n",
       "       [416.7417279 ],\n",
       "       [651.31557414],\n",
       "       [863.24718473],\n",
       "       [267.67534948],\n",
       "       [577.15050349],\n",
       "       [ 46.91550105],\n",
       "       [899.03854159],\n",
       "       [621.42500408],\n",
       "       [757.7606128 ],\n",
       "       [466.31080544],\n",
       "       [757.43509452],\n",
       "       [710.28885625],\n",
       "       [395.43514158],\n",
       "       [559.47829707],\n",
       "       [380.16054171],\n",
       "       [471.25698449],\n",
       "       [643.09235881],\n",
       "       [511.9365651 ],\n",
       "       [339.96346779],\n",
       "       [357.99455171],\n",
       "       [723.93141504],\n",
       "       [547.39810089],\n",
       "       [212.49594675],\n",
       "       [498.93763853],\n",
       "       [580.29606093],\n",
       "       [706.09128397],\n",
       "       [657.22072467],\n",
       "       [ 67.79924492],\n",
       "       [294.79818519],\n",
       "       [636.93448028],\n",
       "       [672.2525047 ],\n",
       "       [520.36439226],\n",
       "       [525.52267256],\n",
       "       [400.84999219],\n",
       "       [589.50413398],\n",
       "       [714.53576177],\n",
       "       [177.19219071],\n",
       "       [566.58365307],\n",
       "       [939.8109317 ],\n",
       "       [683.30720295],\n",
       "       [354.32786098],\n",
       "       [431.659686  ],\n",
       "       [312.71392334],\n",
       "       [443.51657661],\n",
       "       [547.32104608],\n",
       "       [137.48359138],\n",
       "       [859.25876501],\n",
       "       [630.81485745],\n",
       "       [628.1576669 ],\n",
       "       [556.24998988],\n",
       "       [802.2339268 ],\n",
       "       [610.4565738 ],\n",
       "       [713.06155675],\n",
       "       [802.84432657],\n",
       "       [400.89499485],\n",
       "       [659.05380783],\n",
       "       [562.16521062],\n",
       "       [381.72976779],\n",
       "       [404.01416001],\n",
       "       [292.83983185],\n",
       "       [651.89118428],\n",
       "       [672.05217665],\n",
       "       [351.84464405],\n",
       "       [353.74673462]])"
      ]
     },
     "execution_count": 20,
     "metadata": {},
     "output_type": "execute_result"
    }
   ],
   "source": [
    "slreg_pred = slreg.predict(x_test)\n",
    "slreg_pred"
   ]
  },
  {
   "cell_type": "markdown",
   "id": "2838d01f",
   "metadata": {},
   "source": [
    "#### Visualizing the Result"
   ]
  },
  {
   "cell_type": "code",
   "execution_count": 30,
   "id": "63543bd2",
   "metadata": {
    "scrolled": true
   },
   "outputs": [
    {
     "data": {
      "image/png": "[encoded data removed]",
      "text/plain": [
       "<Figure size 432x288 with 1 Axes>"
      ]
     },
     "metadata": {
      "needs_background": "light"
     },
     "output_type": "display_data"
    }
   ],
   "source": [
    "# Visualizing the Result (Training_Set)\n",
    "plt.scatter(x_train,y_train, color= 'red')\n",
    "plt.plot(x_train, slreg.predict(x_train), color= 'blue' )\n",
    "plt.title('Ice Cream Sales')\n",
    "plt.xlabel('Temperature')\n",
    "plt.ylabel('Revenue')\n",
    "plt.show()\n"
   ]
  },
  {
   "cell_type": "code",
   "execution_count": 32,
   "id": "c906aaff",
   "metadata": {
    "scrolled": true
   },
   "outputs": [
    {
     "data": {
      "image/png": "[encoded data removed]",
      "text/plain": [
       "<Figure size 432x288 with 1 Axes>"
      ]
     },
     "metadata": {
      "needs_background": "light"
     },
     "output_type": "display_data"
    }
   ],
   "source": [
    "# Visualizing the Result (Test Set)\n",
    "plt.scatter(x_test,y_test, color='red')\n",
    "plt.plot(x_train, slreg.predict(x_train), color='blue')\n",
    "plt.title(\"Ice Cream Sales\")\n",
    "plt.xlabel('Temperature')\n",
    "plt.ylabel('Revenue')\n",
    "plt.show()\n"
   ]
  },
  {
   "cell_type": "markdown",
   "id": "e389ddb4",
   "metadata": {},
   "source": [
    "### Intercept and Slope of the Regression line"
   ]
  },
  {
   "cell_type": "code",
   "execution_count": 24,
   "id": "def42fb4",
   "metadata": {},
   "outputs": [
    {
     "name": "stdout",
     "output_type": "stream",
     "text": [
      "[46.91550105]\n",
      "[[21.37822239]]\n"
     ]
    }
   ],
   "source": [
    "#To retrieve the intercept:\n",
    "print(slreg.intercept_)\n",
    "\n",
    "#For retrieving the slope:\n",
    "print(slreg.coef_)"
   ]
  },
  {
   "cell_type": "markdown",
   "id": "0caa16ca",
   "metadata": {},
   "source": [
    "### Evaluation of Model"
   ]
  },
  {
   "cell_type": "code",
   "execution_count": 25,
   "id": "23cfd85a",
   "metadata": {},
   "outputs": [
    {
     "name": "stdout",
     "output_type": "stream",
     "text": [
      "Mean Absolute Error: 17.976807512195343\n",
      "Mean Squared Error: 503.354709233428\n",
      "Root Mean Squared Error: 22.435567949874326\n"
     ]
    }
   ],
   "source": [
    "print('Mean Absolute Error:', metrics.mean_absolute_error(y_test, slreg_pred))\n",
    "print('Mean Squared Error:', metrics.mean_squared_error(y_test, slreg_pred))\n",
    "print('Root Mean Squared Error:', np.sqrt(metrics.mean_squared_error(y_test, slreg_pred)))"
   ]
  },
  {
   "cell_type": "code",
   "execution_count": 26,
   "id": "9eeb6f36",
   "metadata": {},
   "outputs": [
    {
     "name": "stdout",
     "output_type": "stream",
     "text": [
      "R Square Value of Test Data: 98.54%\n",
      "R Square Value of Train Data: 97.68%\n"
     ]
    }
   ],
   "source": [
    "print(f'R Square Value of Test Data: {round(r2_score(y_test, slreg.predict(x_test))*100, 2)}%')\n",
    "print(f'R Square Value of Train Data: {round(r2_score(y_train, slreg.predict(x_train))*100,2)}%')"
   ]
  },
  {
   "cell_type": "code",
   "execution_count": null,
   "id": "47754967",
   "metadata": {},
   "outputs": [],
   "source": []
  }
 ],
 "metadata": {
  "kernelspec": {
   "display_name": "Python 3",
   "language": "python",
   "name": "python3"
  },
  "language_info": {
   "codemirror_mode": {
    "name": "ipython",
    "version": 3
   },
   "file_extension": ".py",
   "mimetype": "text/x-python",
   "name": "python",
   "nbconvert_exporter": "python",
   "pygments_lexer": "ipython3",
   "version": "3.8.8"
  }
 },
 "nbformat": 4,
 "nbformat_minor": 5
}
